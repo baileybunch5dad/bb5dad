{
  "nbformat": 4,
  "nbformat_minor": 0,
  "metadata": {
    "colab": {
      "name": "eliweek7.ipynb",
      "provenance": [],
      "collapsed_sections": [],
      "authorship_tag": "ABX9TyPdTfmm/NOikLsY09Rx+8Nd",
      "include_colab_link": true
    },
    "kernelspec": {
      "name": "python3",
      "display_name": "Python 3"
    },
    "language_info": {
      "name": "python"
    }
  },
  "cells": [
    {
      "cell_type": "markdown",
      "metadata": {
        "id": "view-in-github",
        "colab_type": "text"
      },
      "source": [
        "<a href=\"https://colab.research.google.com/github/baileybunch5dad/bb5dad/blob/master/eliweek7.ipynb\" target=\"_parent\"><img src=\"https://colab.research.google.com/assets/colab-badge.svg\" alt=\"Open In Colab\"/></a>"
      ]
    },
    {
      "cell_type": "markdown",
      "metadata": {
        "id": "8-ammD40_ODv"
      },
      "source": [
        "# Eli Terry Week 7\n",
        "\n",
        "## Jumping from geometry ship to soft landing on MIT calculus ship\n",
        "\n",
        "\n",
        "### Problems: 3 derivatives of inverses, 3 derivatives taking logarithms\n",
        "\n",
        "1. $y=\\sin^{-1}x$\n",
        "2. $y=\\tan^{-1}(2x)$\n",
        "3. $y=x^2+\\cos^{-1}(x+1)$\n",
        "4. $y=(6x)^{4x}$\n",
        "5. $y=\\frac{(7x-6)(4x-1)^2}{(6x+5)^3}$\n",
        "6. $y=(5x)^{\\tan x}$ \n",
        "\n",
        "To solve first 3, take trig function of y and use chain rule\n",
        "\n",
        "To solve second 3, take natural logarithm of both sides\n",
        "\n",
        "## Properties\n",
        "\n",
        "$$\n",
        "\\begin{aligned}\n",
        "(\\ln x)^\\prime&=\\frac{1}{x} \\\\\n",
        "e^{\\ln x} &= x \\\\\n",
        "\\ln(a+b)&=\\ln a + \\ln b\\\\\n",
        "\\ln\\left( \\frac{a}{b} \\right) &= \\ln a-\\ln b \\\\\n",
        "\\ln a^b &= b \\ln a \\\\\n",
        "(f(x)g(x))^\\prime &= f^\\prime(x) g(x) + f(x) g^\\prime(x) & \\text{product} \\\\\n",
        "(f(g(x)))^\\prime &= f^\\prime(g(x))g^\\prime(x) & \\text{chain} \\\\\n",
        "\\left(\\frac{f(x)}{g(x)}\\right)^\\prime &= \\frac{f^\\prime(x) g(x) - f(x) g^\\prime(x)}{g(x)^2} & \\text{quotient} \\\\\n",
        "(cf(x))^\\prime &= cf^\\prime(x) & \\text{constant} \\\\\n",
        "\\end{aligned}\n",
        "$$\n",
        "\n"
      ]
    },
    {
      "cell_type": "markdown",
      "metadata": {
        "id": "K5hcGzVh_msE"
      },
      "source": [
        "### Answer to 1\n",
        "\n",
        "\n",
        "$$\n",
        "\\begin{aligned} \n",
        "y &= \\sin^{-1}x \\\\\n",
        "\\sin y &= x \\\\\n",
        "\\frac{d}{dx} \\sin y &= \\frac{d}{dx} x \\\\\n",
        "\\cos y \\cdot y^\\prime &= 1 \\\\\n",
        "y^\\prime &= \\frac{1}{\\sin y} \\\\\n",
        " &= \\boxed{ \\frac{1}{\\sqrt{1-x^2}}  } \\\\ \n",
        "\\end{aligned}\n",
        "$$"
      ]
    },
    {
      "cell_type": "code",
      "metadata": {
        "colab": {
          "base_uri": "https://localhost:8080/",
          "height": 269
        },
        "id": "SvMDZiycA_Vg",
        "outputId": "68c60490-ec5f-4d9d-da1d-77d749e01c43"
      },
      "source": [
        "import matplotlib.pyplot as plt\n",
        "plt.plot([0,3,3,0],[0,2,0,0])\n",
        "plt.xlim(-1,4)\n",
        "plt.ylim(-1,3)\n",
        "plt.text(.5,.15,\"y\")\n",
        "plt.text(3.1,.7,\"x\")\n",
        "plt.text(1.4,1.2,\"1\")\n",
        "plt.text(1.1,-.3,r'$\\sqrt{1-x^2}$')\n",
        "plt.show()"
      ],
      "execution_count": null,
      "outputs": [
        {
          "output_type": "display_data",
          "data": {
            "image/png": "[encoded data removed]",
            "text/plain": [
              "<Figure size 432x288 with 1 Axes>"
            ]
          },
          "metadata": {
            "tags": [],
            "needs_background": "light"
          }
        }
      ]
    },
    {
      "cell_type": "markdown",
      "metadata": {
        "id": "Dmr2qaPNCNs7"
      },
      "source": [
        "### Answer to 2\n",
        "\n",
        "$$\n",
        "\\begin{aligned}\n",
        "y &= \\tan^{-1}(2x) \\\\\n",
        "\\tan y &= 2x \\\\\n",
        "\\frac{d}{dx} \\tan y &= \\frac{d}{dx} 2x \\\\\n",
        "\\frac{1}{\\cos^2 y} \\cdot y^\\prime &= 2 \\\\\n",
        "y^\\prime &= 2 \\cos^2 y \\\\\n",
        "&= \\boxed{ \\frac{2}{4x^2+1} } \\\\\n",
        "\\end{aligned}\n",
        "$$"
      ]
    },
    {
      "cell_type": "code",
      "metadata": {
        "colab": {
          "base_uri": "https://localhost:8080/",
          "height": 269
        },
        "id": "WfbON4orDHZA",
        "outputId": "98e5ad16-8dd0-4bfc-8867-e25da3764a2d"
      },
      "source": [
        "import matplotlib.pyplot as plt\n",
        "plt.plot([0,3,3,0],[0,2,0,0])\n",
        "plt.xlim(-1,4)\n",
        "plt.ylim(-1,3)\n",
        "plt.text(.5,.15,\"y\")\n",
        "plt.text(3.1,.7,\"2x\")\n",
        "plt.text(0.9,1.2,r'$\\sqrt{(2x)^2+1^2}$')\n",
        "plt.text(1.1,-.3,\"1\")\n",
        "plt.show()"
      ],
      "execution_count": null,
      "outputs": [
        {
          "output_type": "display_data",
          "data": {
            "image/png": "[encoded data removed]",
            "text/plain": [
              "<Figure size 432x288 with 1 Axes>"
            ]
          },
          "metadata": {
            "tags": [],
            "needs_background": "light"
          }
        }
      ]
    },
    {
      "cell_type": "markdown",
      "metadata": {
        "id": "9LM8aApbEX6y"
      },
      "source": [
        "### Answer to 3\n",
        "\n",
        "$$\n",
        "\\begin{aligned}\n",
        "y&=x^2+\\cos^{-1}(x+1)\\\\\n",
        "y^\\prime &= 2x + \\frac{d}{dx} cos^{-1}(x+1) \\\\\n",
        "y &= cos^{-1} (x+1) \\\\\n",
        "\\cos y &= x+1 \\\\\n",
        "\\frac{d}{dx} \\cos y &= \\frac{d}{dx} (x+1) \\\\\n",
        "-\\sin y \\cdot y^\\prime &= 1 \\\\\n",
        "y^\\prime &= \\frac{-1}{\\sin y} \\\\\n",
        "&= \\frac{-1}{\\sqrt{1^2-(x+1)^2}} \\\\\n",
        "\\implies \\frac{d}{dx} x^2+\\cos^{-1}(x+1) &= \\boxed{ 2x - \\frac{1}{\\sqrt{-x(x+2)}} }\n",
        "\\end{aligned}\n",
        "$$"
      ]
    },
    {
      "cell_type": "code",
      "metadata": {
        "colab": {
          "base_uri": "https://localhost:8080/",
          "height": 269
        },
        "id": "ViZPZLM6FXdC",
        "outputId": "74730575-0f4c-4fba-90c9-a289792d16cc"
      },
      "source": [
        "import matplotlib.pyplot as plt\n",
        "plt.plot([0,3,3,0],[0,2,0,0])\n",
        "plt.xlim(-1,4.5)\n",
        "plt.ylim(-1,3)\n",
        "plt.text(.5,.15,\"y\")\n",
        "plt.text(3.1,.7,r'$\\sqrt{1^2-(x+1)^2}$')\n",
        "plt.text(0.9,.9,\"1\")\n",
        "plt.text(1.1,-.3,\"x+1\")\n",
        "plt.show()"
      ],
      "execution_count": null,
      "outputs": [
        {
          "output_type": "display_data",
          "data": {
            "image/png": "[encoded data removed]",
            "text/plain": [
              "<Figure size 432x288 with 1 Axes>"
            ]
          },
          "metadata": {
            "tags": [],
            "needs_background": "light"
          }
        }
      ]
    },
    {
      "cell_type": "markdown",
      "metadata": {
        "id": "RSM5YXcdJBmP"
      },
      "source": [
        "### Answer to 4\n",
        "\n",
        "$$\n",
        "\\begin{aligned}\n",
        "y &= (6x)^{4x} \\\\\n",
        "\\ln y &= 4x \\ln 6x \\\\\n",
        "\\frac{1}{y} y^\\prime &= 4 \\cdot \\ln(6x) + 4x \\cdot \\left( \\frac{1}{6x} \\right) 6 \\\\\n",
        "\\frac{1}{y} y^\\prime &= 4 (\\ln (6x) + 1) \\\\\n",
        "y^\\prime &= y \\cdot 4 (\\ln (6x) + 1) \\\\\n",
        "&= \\boxed{(6x)^{4x}\\cdot 4 (\\ln (6x) + 1) } \n",
        "\\end{aligned}\n",
        "$$"
      ]
    },
    {
      "cell_type": "markdown",
      "metadata": {
        "id": "noPlNaypK64Q"
      },
      "source": [
        "### Answer to 5\n",
        "\n",
        "$$\n",
        "\\begin{aligned}\n",
        "y&=\\frac{(7x-6)(4x-1)^2}{(6x+5)^3}\\\\\n",
        "\\ln y &= \\ln \\left[ \\frac{(7x-6)(4x-1)^2}{(6x+5)^3} \\right] \\\\\n",
        "\\ln y &= \\ln (7x-6) + 2 \\ln (4x-1) - 3 \\ln (6x+5) \\\\\n",
        "\\frac{1}{y} y^\\prime &= \\frac{1}{7x-6}(7) + (2)\\frac{1}{4x-1}(4) - (3) \\frac{1}{6x+5}(6) \\\\\n",
        "y^\\prime &= y \\left( \\frac{7}{7x-6} + \\frac{8}{4x-1} - \\frac{18}{6x+5} \\right) \\\\\n",
        "&= \\boxed{ \\left( \\frac{(7x-6)(4x-1)^2}{(6x+5)^3} \\right) \\left( \\frac{7}{7x-6} + \\frac{8}{4x-1} - \\frac{18}{6x+5} \\right) } \\\\\n",
        "\\end{aligned}\n",
        "$$"
      ]
    },
    {
      "cell_type": "markdown",
      "metadata": {
        "id": "DDgf-SkmMmg7"
      },
      "source": [
        "### Answer to 6\n",
        "\n",
        "$$\n",
        "\\begin{aligned}\n",
        "y&=(5x)^{\\tan x} \\\\\n",
        "\\ln y &= \\tan x \\ln (5x) \\\\\n",
        "\\frac{1}{y}y^\\prime &= \\frac{1}{\\cos^2 x} \\ln (5x) + \\tan x \\frac{1}{5x}(5) \\\\\n",
        "y^\\prime &= y \\cdot \\left( \\frac{\\ln (5x)}{\\cos^2 x}  + \\frac{\\tan x}{x} \\right) \\\\\n",
        "&= \\boxed{ \\left( (5x)^{\\tan x}  \\right) \\left(  \\frac{\\ln (5x)}{\\cos^2 x}  + \\frac{\\tan x}{x} \\right) } \\\\\n",
        "\\end{aligned}\n",
        "$$"
      ]
    },
    {
      "cell_type": "code",
      "metadata": {
        "colab": {
          "base_uri": "https://localhost:8080/",
          "height": 265
        },
        "id": "rXaCtQIhse3O",
        "outputId": "2eeafba0-db80-4e5c-e88e-b93a1045e502"
      },
      "source": [
        "# Visual proof\n",
        "import matplotlib.pyplot as plt\n",
        "import numpy as np\n",
        "\n",
        "\n",
        "def flipside(p0, p1):\n",
        "    return [2 * p0[0] - p1[0], 2 * p0[1] - p1[1]]\n",
        "\n",
        "\n",
        "def right(p, m, llen):\n",
        "    t = llen / np.sqrt(m * m + 1) + p[0]\n",
        "    return [t, m * (t - p[0]) + p[1]]\n",
        "\n",
        "\n",
        "def left(p, m, llen):\n",
        "    return flipside(p, right(p, m, llen))\n",
        "\n",
        "def eucdist(x1,y1,x2,y2):\n",
        "  return np.sqrt(np.power(x2-x1,2)+np.power(y2-y1,2))\n",
        "\n",
        "def tanline(fnc, fncprime, xarr):\n",
        "    # plt.plot(x, fnc(x))\n",
        "    n = np.size(xarr)\n",
        "    d = eucdist(xarr[0],fnc(xarr[0]),xarr[-1],fnc(xarr[-1]))\n",
        "    mid = int(n / 2)\n",
        "    x0 = xarr[mid]\n",
        "    y0 = fnc(x0)\n",
        "    pm = [x0, y0]\n",
        "    m = fncprime(x0)\n",
        "    pr = right(pm, m, d/4)\n",
        "    pl = left(pm, m, d/4)\n",
        "    tline = np.array([pl, pm, pr])\n",
        "    # plt.scatter(tline[:,0], tline[:,1])\n",
        "    # plt.plot(tline[:,0], tline[:,1])\n",
        "    return tline\n",
        "\n",
        "\n",
        "def f1(xvec):\n",
        "    return np.arcsin(xvec)\n",
        "\n",
        "def f1prime(xpnt):\n",
        "    return 1 / np.sqrt(1 - np.power(xpnt, 2))\n",
        "\n",
        "def f2(xvec):\n",
        "    return np.arctan(2 * xvec)\n",
        "\n",
        "def f2prime(xpnt):\n",
        "    return 2 / (4 * np.power(xpnt, 2) + 1)\n",
        "\n",
        "def f3(xvec):\n",
        "    return np.power(xvec, 2) + np.arccos(xvec + 1)\n",
        "\n",
        "def f3prime(xpnt):\n",
        "    return 2 * xpnt - 1 / np.sqrt(-xpnt * xpnt - 2 * xpnt)\n",
        "\n",
        "def f4(xvec):\n",
        "    return np.power(6 * xvec, 4 * xvec)\n",
        "\n",
        "def f4prime(xpnt):\n",
        "    return np.power(6 * xpnt, 4 * xpnt) * 4 * (np.log(6 * xpnt) + 1)\n",
        "\n",
        "def f5(xvec):\n",
        "    return (7 * xvec - 6) * np.power(4 * xvec - 1, 2) / np.power(6 * xvec + 5, 3)\n",
        "\n",
        "def f5prime(xpnt):\n",
        "    return (7 * xpnt - 6) * np.power(4 * xpnt - 1, 2) / np.power(6 * xpnt + 5, 3) * (\n",
        "                (7 / (7 * xpnt - 6)) + (8 / (4 * xpnt - 1)) - (18 / (6 * xpnt + 5)))\n",
        "\n",
        "def f6(xvec):\n",
        "    return np.power(5 * xvec, np.tan(xvec))\n",
        "\n",
        "def f6prime(xpnt):\n",
        "    return np.power(5 * xpnt, np.tan(xpnt)) * (np.log(5 * xpnt) / np.power(np.cos(xpnt), 2) + np.tan(xpnt) / xpnt)\n",
        "\n",
        "xar1 = np.linspace(.1, .9, 1000)\n",
        "yar1 = f1(xar1)\n",
        "tan1 = tanline(f1, f1prime, xar1)\n",
        "\n",
        "xar2 = np.linspace(.1, .9, 500)\n",
        "yar2 = f2(xar2)\n",
        "tan2 = tanline(f2, f2prime, xar2)\n",
        "\n",
        "xar3 = np.linspace(-.9, -.1, 500)\n",
        "yar3 = f3(xar3)\n",
        "tan3 = tanline(f3, f3prime, xar3)\n",
        "\n",
        "xar4 = np.linspace(.755, .758, 500)\n",
        "yar4 = f4(xar4)\n",
        "tan4 = tanline(f4, f4prime, xar4)\n",
        "\n",
        "xar5 = np.linspace(.1, .9, 500)\n",
        "yar5 = f5(xar5)\n",
        "tan5 = tanline(f5, f5prime, xar5)\n",
        "\n",
        "xar6 = np.linspace(.3, .9, 500)\n",
        "yar6 = f6(xar6)\n",
        "tan6 = tanline(f6, f6prime, xar6)\n",
        "\n",
        "\n",
        "fig, axs = plt.subplots(2, 3)\n",
        "axs[0, 0].plot(xar1, yar1)\n",
        "axs[0, 0].plot(tan1[:,0],tan1[:,1])\n",
        "\n",
        "axs[0, 1].plot(xar2, yar2)\n",
        "axs[0, 1].plot(tan2[:,0],tan2[:,1])\n",
        "\n",
        "axs[0, 2].plot(xar3, yar3)\n",
        "axs[0, 2].plot(tan3[:,0],tan3[:,1])\n",
        "\n",
        "axs[1, 0].plot(xar4, yar4)\n",
        "axs[1, 0].plot(tan4[:,0],tan4[:,1])\n",
        "\n",
        "axs[1, 1].plot(xar5, yar5)\n",
        "axs[1, 1].plot(tan5[:,0],tan5[:,1])\n",
        "\n",
        "axs[1, 2].plot(xar6, yar6)\n",
        "axs[1, 2].plot(tan6[:,0],tan6[:,1])\n",
        "\n",
        "plt.show()\n"
      ],
      "execution_count": null,
      "outputs": [
        {
          "output_type": "display_data",
          "data": {
            "image/png": "[encoded data removed]",
            "text/plain": [
              "<Figure size 432x288 with 6 Axes>"
            ]
          },
          "metadata": {
            "tags": [],
            "needs_background": "light"
          }
        }
      ]
    }
  ]
}