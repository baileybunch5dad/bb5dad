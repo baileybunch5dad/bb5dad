{
  "nbformat": 4,
  "nbformat_minor": 0,
  "metadata": {
    "colab": {
      "name": "eli6.ipynb",
      "provenance": [],
      "authorship_tag": "ABX9TyNNZMAxxDCTa2TyEeFCyN14",
      "include_colab_link": true
    },
    "kernelspec": {
      "name": "python3",
      "display_name": "Python 3"
    },
    "language_info": {
      "name": "python"
    }
  },
  "cells": [
    {
      "cell_type": "markdown",
      "metadata": {
        "id": "view-in-github",
        "colab_type": "text"
      },
      "source": [
        "<a href=\"https://colab.research.google.com/github/baileybunch5dad/bb5dad/blob/master/eli6.ipynb\" target=\"_parent\"><img src=\"https://colab.research.google.com/assets/colab-badge.svg\" alt=\"Open In Colab\"/></a>"
      ]
    },
    {
      "cell_type": "markdown",
      "metadata": {
        "id": "nRSosFGCFRQZ"
      },
      "source": [
        "Given a known starting point $x_1,x_2$ and a slope $m$ make a line have a length of $c=2$\n",
        "$$\n",
        "\\begin{aligned}\n",
        "\\frac{y_2-y_1}{x_2-x_1} &= m & x_1,y_1,m \\text{ given}\\\\\n",
        "c &= 2 & c\\text{ given}\\\\\n",
        "\\left( \\frac{y_2-y_1}{x_2-x_1} \\right)^2 &= m^2 & \\text{from 1}\\\\\n",
        "(y_2-y_1)^2 &= m^2(x_2-x_1)^2 & \\text{eq A}  \\\\\n",
        "a^2 + b^2 &= c^2 \\\\\n",
        "(x_1,y_1) &= \\text{start of hypotenuse} \\\\\n",
        "(x_2,y_2) &= \\text{end of hypotenuse} \\\\\n",
        "a &= x_2 - x_1 \\\\\n",
        "b &= y_2 - y_1 \\\\\n",
        "c &= \\sqrt{(x_2-x_1)^2 + (y_2-y_1)^2} \\\\\n",
        "2 &= \\sqrt{(x_2-x_1)^2 + (y_2-y_1)^2} \\\\\n",
        "4 &= (x_2-x_1)^2 + (y_1-y_1)^2 \\\\\n",
        "4 &=  (x_2-x_1)^2 + m^2(x_2-x_1)^2 & \\text{from eq A} \\\\\n",
        "4 &= (m^2 +1 )(x_2-x_1)^2 \\\\\n",
        "\\frac{4}{(m^2+1)} &= (x_2-x_1)^2 \\\\\n",
        "\\sqrt{\\frac{4}{(m^2+1)}} &= x_2-x_1 \\\\\n",
        "x_2 &= \\frac{2}{\\sqrt{m^2+1}} + x1 \\\\\n",
        "y_2 &= m(x_1-x_2) + y1 \\\\\n",
        "\\end{aligned}\n",
        "$$"
      ]
    },
    {
      "cell_type": "code",
      "metadata": {
        "colab": {
          "base_uri": "https://localhost:8080/",
          "height": 388
        },
        "id": "ptvT3E98EmZi",
        "outputId": "d2de3664-a159-4659-ccb4-3491a054acbd"
      },
      "source": [
        "from matplotlib import pyplot as plt\n",
        "import numpy as np\n",
        "# draw a line 2 units long independent of its slope\n",
        "slopes = np.linspace(-3, 3, 7)\n",
        "x1 = 3\n",
        "y1 = 3\n",
        "plt.xlim(0,6)\n",
        "plt.ylim(0,6)\n",
        "for m in slopes:\n",
        "  x2 = 2/np.sqrt(m*m+1)+x1\n",
        "  y2 = m*(x2-x1)+y1\n",
        "  x1a = x1-(x2-x1)\n",
        "  y1a = 2*y1 - y2\n",
        "  print(np.round(np.array([x1,y1,x2,y2,x1a,y1a,m]),2))\n",
        "  slen=np.sqrt((x2-x1)*(x2-x1)+(y2-y1)*(y2-y1))\n",
        "  plt.plot([x1a,x2],[y1a,y2])\n",
        "  plt.text(x2,y2,str(round(m,2))+','+str(round(slen,2)))\n",
        "plt.gca().set_aspect('equal')\n",
        "plt.show()  "
      ],
      "execution_count": 7,
      "outputs": [
        {
          "output_type": "stream",
          "text": [
            "[ 3.    3.    3.63  1.1   2.37  4.9  -3.  ]\n",
            "[ 3.    3.    3.89  1.21  2.11  4.79 -2.  ]\n",
            "[ 3.    3.    4.41  1.59  1.59  4.41 -1.  ]\n",
            "[3. 3. 5. 3. 1. 3. 0.]\n",
            "[3.   3.   4.41 4.41 1.59 1.59 1.  ]\n",
            "[3.   3.   3.89 4.79 2.11 1.21 2.  ]\n",
            "[3.   3.   3.63 4.9  2.37 1.1  3.  ]\n"
          ],
          "name": "stdout"
        },
        {
          "output_type": "display_data",
          "data": {
            "image/png": "[encoded data removed]",
            "text/plain": [
              "<Figure size 432x288 with 1 Axes>"
            ]
          },
          "metadata": {
            "tags": [],
            "needs_background": "light"
          }
        }
      ]
    },
    {
      "cell_type": "code",
      "metadata": {
        "id": "Ew3TUuHTVRXt"
      },
      "source": [
        ""
      ],
      "execution_count": null,
      "outputs": []
    }
  ]
}